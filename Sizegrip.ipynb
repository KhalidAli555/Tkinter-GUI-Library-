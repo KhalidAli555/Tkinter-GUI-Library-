{
 "cells": [
  {
   "cell_type": "code",
   "execution_count": 3,
   "id": "c60c775c-8acf-4ec1-b838-c4ec8668aa8d",
   "metadata": {},
   "outputs": [],
   "source": [
    "# sizegrip used to minimize or maximize the window\n",
    "from tkinter import *\n",
    "from tkinter import ttk\n",
    "win=Tk()\n",
    "win.title(\"Sizegrip\")\n",
    "\n",
    "# Configure the root grid to make it resizable\n",
    "win.columnconfigure(0, weight=1)\n",
    "win.rowconfigure(0, weight=1)\n",
    "win.rowconfigure(1, weight=1)\n",
    "win.rowconfigure(2, weight=1)\n",
    "\n",
    "# Add a resizing grip in the bottom-right corner\n",
    "sizegrip = ttk.Sizegrip(win)\n",
    "sizegrip.grid(row=3, column=0, sticky=\"se\")\n",
    "\n",
    "win.mainloop()"
   ]
  },
  {
   "cell_type": "code",
   "execution_count": null,
   "id": "6cdd4200-1b66-4661-ae7a-0a15cafebdee",
   "metadata": {},
   "outputs": [],
   "source": []
  }
 ],
 "metadata": {
  "kernelspec": {
   "display_name": "Python 3 (ipykernel)",
   "language": "python",
   "name": "python3"
  },
  "language_info": {
   "codemirror_mode": {
    "name": "ipython",
    "version": 3
   },
   "file_extension": ".py",
   "mimetype": "text/x-python",
   "name": "python",
   "nbconvert_exporter": "python",
   "pygments_lexer": "ipython3",
   "version": "3.12.3"
  },
  "widgets": {
   "application/vnd.jupyter.widget-state+json": {
    "state": {},
    "version_major": 2,
    "version_minor": 0
   }
  }
 },
 "nbformat": 4,
 "nbformat_minor": 5
}
