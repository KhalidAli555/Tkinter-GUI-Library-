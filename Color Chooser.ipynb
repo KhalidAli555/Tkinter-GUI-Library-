{
 "cells": [
  {
   "cell_type": "code",
   "execution_count": 2,
   "id": "800fde81-03d8-48e0-95e7-0b21191a81a3",
   "metadata": {},
   "outputs": [],
   "source": [
    "from tkinter import *\n",
    "from tkinter.colorchooser import askcolor\n",
    "\n",
    "# Create main window\n",
    "win = Tk()\n",
    "win.title(\"Color Chooser\")\n",
    "win.geometry(\"200x200\")  # Set window size\n",
    "\n",
    "# Function to change background color\n",
    "def color():\n",
    "    ans = askcolor(title='Colorbox')\n",
    "    if ans[1]:  # If a color is chosen\n",
    "        win.config(bg=ans[1])\n",
    "\n",
    "# Button to trigger color chooser\n",
    "button = Button(win, text=\"Choose Color\", command=color)\n",
    "button.place(x=50, y=80, height=40, width=100)  # Centered button placement\n",
    "\n",
    "win.mainloop()\n"
   ]
  },
  {
   "cell_type": "code",
   "execution_count": null,
   "id": "d8f22777-4253-4087-abdb-df5cc5a92157",
   "metadata": {},
   "outputs": [],
   "source": []
  }
 ],
 "metadata": {
  "kernelspec": {
   "display_name": "Python 3 (ipykernel)",
   "language": "python",
   "name": "python3"
  },
  "language_info": {
   "codemirror_mode": {
    "name": "ipython",
    "version": 3
   },
   "file_extension": ".py",
   "mimetype": "text/x-python",
   "name": "python",
   "nbconvert_exporter": "python",
   "pygments_lexer": "ipython3",
   "version": "3.12.3"
  },
  "widgets": {
   "application/vnd.jupyter.widget-state+json": {
    "state": {},
    "version_major": 2,
    "version_minor": 0
   }
  }
 },
 "nbformat": 4,
 "nbformat_minor": 5
}
