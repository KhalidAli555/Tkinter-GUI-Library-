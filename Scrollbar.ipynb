{
 "cells": [
  {
   "cell_type": "code",
   "execution_count": 1,
   "id": "51a71f6c-87b9-44cf-8a41-990b75d17275",
   "metadata": {},
   "outputs": [],
   "source": [
    "from tkinter import *\n",
    "from tkinter import ttk\n",
    "\n",
    "# Create the main window\n",
    "win = Tk()\n",
    "win.title(\"Scroll Bar\")\n",
    "\n",
    "# Create a Text widget with specific font and size\n",
    "text = Text(win, font=(\"Ariel\", 20, 'bold'))\n",
    "text.place(x=10, y=10, height=400, width=380)\n",
    "\n",
    "# Create a vertical Scrollbar and attach it to the Text widget\n",
    "scrollbar = Scrollbar(win, orient=\"vertical\", command=text.yview)\n",
    "scrollbar.place(x=390, y=10, height=400)  # Removed width=10 for a normal scrollbar width\n",
    "\n",
    "# Link the Scrollbar to the Text widget\n",
    "text['yscrollcommand'] = scrollbar.set\n",
    "\n",
    "# Run the window's main loop\n",
    "win.mainloop()\n"
   ]
  },
  {
   "cell_type": "code",
   "execution_count": null,
   "id": "a9c41a10-a44b-49bf-baf4-88d2efae0ba9",
   "metadata": {},
   "outputs": [],
   "source": []
  }
 ],
 "metadata": {
  "kernelspec": {
   "display_name": "Python 3 (ipykernel)",
   "language": "python",
   "name": "python3"
  },
  "language_info": {
   "codemirror_mode": {
    "name": "ipython",
    "version": 3
   },
   "file_extension": ".py",
   "mimetype": "text/x-python",
   "name": "python",
   "nbconvert_exporter": "python",
   "pygments_lexer": "ipython3",
   "version": "3.12.3"
  },
  "widgets": {
   "application/vnd.jupyter.widget-state+json": {
    "state": {},
    "version_major": 2,
    "version_minor": 0
   }
  }
 },
 "nbformat": 4,
 "nbformat_minor": 5
}
