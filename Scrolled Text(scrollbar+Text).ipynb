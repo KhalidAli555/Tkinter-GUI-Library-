{
 "cells": [
  {
   "cell_type": "code",
   "execution_count": 3,
   "id": "e2a41a7d-2310-40e0-bcad-bed8f533928b",
   "metadata": {},
   "outputs": [],
   "source": [
    "from tkinter import *\n",
    "from tkinter import ttk\n",
    "from tkinter.scrolledtext import ScrolledText\n",
    "\n",
    "# Create the main window\n",
    "win = Tk()\n",
    "win.title(\"Scrolled Text\")\n",
    "\n",
    "# Create a ScrolledText widget\n",
    "scrolledtext = ScrolledText(win, height=20, width=50)\n",
    "scrolledtext.pack(padx=10, pady=10)  # Use pack for easy layout\n",
    "\n",
    "# Start the Tkinter event loop\n",
    "win.mainloop()\n"
   ]
  },
  {
   "cell_type": "code",
   "execution_count": null,
   "id": "9949d683-2f56-4a41-bd8f-6d8d819d3dc9",
   "metadata": {},
   "outputs": [],
   "source": []
  }
 ],
 "metadata": {
  "kernelspec": {
   "display_name": "Python 3 (ipykernel)",
   "language": "python",
   "name": "python3"
  },
  "language_info": {
   "codemirror_mode": {
    "name": "ipython",
    "version": 3
   },
   "file_extension": ".py",
   "mimetype": "text/x-python",
   "name": "python",
   "nbconvert_exporter": "python",
   "pygments_lexer": "ipython3",
   "version": "3.12.3"
  },
  "widgets": {
   "application/vnd.jupyter.widget-state+json": {
    "state": {},
    "version_major": 2,
    "version_minor": 0
   }
  }
 },
 "nbformat": 4,
 "nbformat_minor": 5
}
