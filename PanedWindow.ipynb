{
 "cells": [
  {
   "cell_type": "code",
   "execution_count": 1,
   "id": "4a50956a-95a1-4804-9883-d61a6b12f8f8",
   "metadata": {},
   "outputs": [],
   "source": [
    "import tkinter as tk\n",
    "from tkinter import ttk\n",
    "\n",
    "# Create the main window\n",
    "root = tk.Tk()\n",
    "root.title(\"PanedWindow Example\")\n",
    "root.geometry(\"400x300\")\n",
    "\n",
    "# Create a horizontal PanedWindow\n",
    "paned_window = tk.PanedWindow(root, orient=tk.HORIZONTAL)\n",
    "paned_window.pack(fill=tk.BOTH, expand=1)\n",
    "\n",
    "# Add a left frame and a label to it\n",
    "left_frame = tk.Frame(paned_window, bg=\"lightblue\", width=150, height=300)\n",
    "label_left = tk.Label(left_frame, text=\"Left Pane\")\n",
    "label_left.pack(pady=10)\n",
    "paned_window.add(left_frame)  # Add left pane to PanedWindow\n",
    "\n",
    "# Add a right frame and a label to it\n",
    "right_frame = tk.Frame(paned_window, bg=\"lightgreen\", width=150, height=300)\n",
    "label_right = tk.Label(right_frame, text=\"Right Pane\")\n",
    "label_right.pack(pady=10)\n",
    "paned_window.add(right_frame)  # Add right pane to PanedWindow\n",
    "\n",
    "# Run the Tkinter main loop\n",
    "root.mainloop()\n"
   ]
  },
  {
   "cell_type": "code",
   "execution_count": null,
   "id": "695184a6-26b1-4dfd-98bf-c218ab51f3a8",
   "metadata": {},
   "outputs": [],
   "source": []
  }
 ],
 "metadata": {
  "kernelspec": {
   "display_name": "Python 3 (ipykernel)",
   "language": "python",
   "name": "python3"
  },
  "language_info": {
   "codemirror_mode": {
    "name": "ipython",
    "version": 3
   },
   "file_extension": ".py",
   "mimetype": "text/x-python",
   "name": "python",
   "nbconvert_exporter": "python",
   "pygments_lexer": "ipython3",
   "version": "3.12.3"
  },
  "widgets": {
   "application/vnd.jupyter.widget-state+json": {
    "state": {},
    "version_major": 2,
    "version_minor": 0
   }
  }
 },
 "nbformat": 4,
 "nbformat_minor": 5
}
