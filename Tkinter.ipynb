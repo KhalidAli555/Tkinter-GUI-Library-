{
 "cells": [
  {
   "cell_type": "code",
   "execution_count": 18,
   "id": "d5e5f74e-9c04-4402-987f-5dce9146fffb",
   "metadata": {},
   "outputs": [],
   "source": [
    "#import the tkinter\n",
    "import tkinter as tk\n",
    "from tkinter import messagebox\n",
    "\n",
    "root=tk.Tk()\n",
    "\n",
    "#set the title of the window\n",
    "root.title(\"Tkinter Library For GUI\")\n",
    "\n",
    "#set the size of the window\n",
    "root.geometry(\"500x400\")\n",
    "\n",
    "# minimum size of window\n",
    "root.minsize(200,200)\n",
    "\n",
    "# maximum size of window\n",
    "root.maxsize(600,600)\n",
    "\n",
    "# # Set window icon (must be a .ico file)\n",
    "root.iconbitmap(\"windowviewicon_thescreen_ventana_vista_10767.ico\")\n",
    "\n",
    "# change the background of the window\n",
    "root.configure(bg='lightblue')\n",
    "\n",
    "# write any text on window\n",
    "label=tk.Label(root,text=\"Welcome To Tkinter GUI\",font=('Ariel',20,'bold'),bg='red',fg='orange').pack() # also give heigth & width parameter .give 'side' parameter in 'pack' to align the text\n",
    "\n",
    "# user input in single row\n",
    "tk.Entry(root,width=30,font=('Ariel',14),bg='grey',fg='white',borderwidth=3).pack(pady=5) #pady is used to insert space between any box\n",
    "\n",
    "# Creates a multi-line user input.\n",
    "tk.Text(root,height=5,width=20,bg='grey',fg='white').pack()\n",
    "\n",
    "# for passward use  show=\"*\"\n",
    "tk.Entry(root,width=30,font=('Ariel',14),bg='grey',fg='white',borderwidth=3,show='*').pack()\n",
    "\n",
    "# Creates a checkbox widget.\n",
    "tk.Checkbutton(root, text=\"Check\").pack()\n",
    "\n",
    "\n",
    "\n",
    "\n",
    "\n",
    "# give information message when we click button\n",
    "def click():\n",
    "    messagebox.showinfo(\"Info\",\"Button Clicked\")\n",
    "\n",
    "btn=tk.Button(root,text=\"Click Me\",command=click).pack(pady=3)\n",
    "\n",
    "#show error message when we clicked button\n",
    "def click():\n",
    "    messagebox.showerror(\"Info\",\"Error Occured\")\n",
    "\n",
    "btn=tk.Button(root,text=\"Click Me\",activebackground='black',command=click).pack() # activebackground work when we click on button\n",
    "\n",
    "# create options menu so that user select any one form them\n",
    "# List of options\n",
    "options=['option1','option2','option3']\n",
    "selected_option=tk.StringVar()\n",
    "\n",
    "selected_option.set(options[0]) # Set default value\n",
    "optionmenu=tk.OptionMenu(root,selected_option,*options).pack(pady=3)\n",
    "\n",
    "# Configure the OptionMenu's appearance (background and foreground colors)\n",
    "# optionmenu.configure(bg='green', fg='white')\n",
    "\n",
    "\n",
    "\n",
    "#create buttons in window\n",
    "btn1=tk.Button(root,text=\"Button1\",fg='red',bg='blue',borderwidth=3).pack(pady=3) # fg give color to text & bg give color to background\n",
    "btn2=tk.Button(root,text=\"Button2\",fg=\"red\",bg=\"green\").pack()\n",
    "btn3=tk.Button(root,text=\"Button3\",fg='red',bg='orange').pack(side='left',pady=5)\n",
    "btn4=tk.Button(root,text=\"Button4\",fg='red',bg='purple').pack(side='left')\n",
    "root.mainloop()"
   ]
  },
  {
   "cell_type": "code",
   "execution_count": null,
   "id": "69012205-3801-4fae-bec0-fcef41cd5bae",
   "metadata": {},
   "outputs": [],
   "source": []
  },
  {
   "cell_type": "code",
   "execution_count": 4,
   "id": "bec15e62-9e5b-4041-bd68-843f470f855d",
   "metadata": {},
   "outputs": [],
   "source": []
  },
  {
   "cell_type": "code",
   "execution_count": null,
   "id": "9d40352b-6010-4d4f-8791-11d187f14e2d",
   "metadata": {},
   "outputs": [],
   "source": []
  }
 ],
 "metadata": {
  "kernelspec": {
   "display_name": "Python 3 (ipykernel)",
   "language": "python",
   "name": "python3"
  },
  "language_info": {
   "codemirror_mode": {
    "name": "ipython",
    "version": 3
   },
   "file_extension": ".py",
   "mimetype": "text/x-python",
   "name": "python",
   "nbconvert_exporter": "python",
   "pygments_lexer": "ipython3",
   "version": "3.12.3"
  },
  "widgets": {
   "application/vnd.jupyter.widget-state+json": {
    "state": {},
    "version_major": 2,
    "version_minor": 0
   }
  }
 },
 "nbformat": 4,
 "nbformat_minor": 5
}
