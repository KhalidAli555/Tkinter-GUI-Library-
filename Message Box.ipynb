{
 "cells": [
  {
   "cell_type": "code",
   "execution_count": 3,
   "id": "1beaeed2-0c8a-42db-a353-879a179a2878",
   "metadata": {},
   "outputs": [],
   "source": [
    "from tkinter import *\n",
    "from tkinter.messagebox import showinfo, showerror, showwarning\n",
    "\n",
    "# Create the main window\n",
    "win = Tk()\n",
    "\n",
    "# Define the function to show a message box when the button is clicked\n",
    "def test():\n",
    "    showinfo(title=\"MessageBox\", message=\"Click successfully!\")\n",
    "\n",
    "# Create a button and assign the 'test' function to its command\n",
    "button = Button(win, text=\"Ok\", command=test)\n",
    "button.pack(padx=5, pady=5)  # Add padding around the button\n",
    "\n",
    "# Start the Tkinter event loop\n",
    "win.mainloop()\n"
   ]
  },
  {
   "cell_type": "code",
   "execution_count": 4,
   "id": "b5a2736a-0857-4c3d-859d-88cc1348893a",
   "metadata": {},
   "outputs": [],
   "source": [
    "from tkinter import *\n",
    "from tkinter.messagebox import showinfo, showerror, showwarning\n",
    "\n",
    "# Create the main window\n",
    "win = Tk()\n",
    "\n",
    "# Define the function to show a message box when the button is clicked\n",
    "def test():\n",
    "    showerror(title=\"MessageBox\", message=\"Error Occured!\")\n",
    "\n",
    "# Create a button and assign the 'test' function to its command\n",
    "button = Button(win, text=\"Ok\", command=test)\n",
    "button.pack(padx=5, pady=5)  # Add padding around the button\n",
    "\n",
    "# Start the Tkinter event loop\n",
    "win.mainloop()\n"
   ]
  },
  {
   "cell_type": "code",
   "execution_count": 7,
   "id": "d1636e56-709c-411b-8137-2ff27d6ffa83",
   "metadata": {},
   "outputs": [],
   "source": [
    "from tkinter import *\n",
    "from tkinter.messagebox import showinfo, showerror, showwarning\n",
    "\n",
    "# Create the main window\n",
    "win = Tk()\n",
    "\n",
    "# Define the function to show a message box when the button is clicked\n",
    "def test():\n",
    "    showwarning(title=\"MessageBox\", message=\"Warning!\")\n",
    "\n",
    "# Create a button and assign the 'test' function to its command\n",
    "button = Button(win, text=\"Ok\", command=test)\n",
    "button.pack(padx=5, pady=5)  # Add padding around the button\n",
    "\n",
    "# Start the Tkinter event loop\n",
    "win.mainloop()\n"
   ]
  },
  {
   "cell_type": "code",
   "execution_count": null,
   "id": "8bed580f-283e-4f01-9153-c3ee576e49ee",
   "metadata": {},
   "outputs": [],
   "source": []
  }
 ],
 "metadata": {
  "kernelspec": {
   "display_name": "Python 3 (ipykernel)",
   "language": "python",
   "name": "python3"
  },
  "language_info": {
   "codemirror_mode": {
    "name": "ipython",
    "version": 3
   },
   "file_extension": ".py",
   "mimetype": "text/x-python",
   "name": "python",
   "nbconvert_exporter": "python",
   "pygments_lexer": "ipython3",
   "version": "3.12.3"
  },
  "widgets": {
   "application/vnd.jupyter.widget-state+json": {
    "state": {},
    "version_major": 2,
    "version_minor": 0
   }
  }
 },
 "nbformat": 4,
 "nbformat_minor": 5
}
