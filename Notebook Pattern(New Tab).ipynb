{
 "cells": [
  {
   "cell_type": "code",
   "execution_count": 5,
   "id": "b75fb6ad-f100-45b9-a191-a9facac4e632",
   "metadata": {},
   "outputs": [],
   "source": [
    "# simple GUI using Tkinter with two tabs (\"New\" and \"Open\") in a notebook widget.\n",
    "from tkinter import *\n",
    "from tkinter import ttk\n",
    "\n",
    "win = Tk()\n",
    "win.title(\"Notebook\")\n",
    "\n",
    "notebook = ttk.Notebook(win)\n",
    "notebook.pack(pady=10, expand=True)\n",
    "\n",
    "# First frame (Python)\n",
    "frame1 = ttk.Frame(notebook, height=400, width=400)\n",
    "frame1.pack(fill='both', expand=True)\n",
    "label_frame = Label(frame1, text=\"Python\")\n",
    "label_frame.place(x=10, y=10)\n",
    "\n",
    "# Second frame (Java)\n",
    "frame2 = ttk.Frame(notebook, height=400, width=400)\n",
    "frame2.pack(fill='both', expand=True)\n",
    "label2_frame = Label(frame2, text=\"Java\")\n",
    "label2_frame.place(x=10, y=10)\n",
    "\n",
    "# Add frames to notebook\n",
    "notebook.add(frame1, text='New')\n",
    "notebook.add(frame2, text='Open')\n",
    "\n",
    "win.mainloop()\n"
   ]
  },
  {
   "cell_type": "code",
   "execution_count": null,
   "id": "724c6174-bfe0-4c22-bb5a-43f880830921",
   "metadata": {},
   "outputs": [],
   "source": []
  }
 ],
 "metadata": {
  "kernelspec": {
   "display_name": "Python 3 (ipykernel)",
   "language": "python",
   "name": "python3"
  },
  "language_info": {
   "codemirror_mode": {
    "name": "ipython",
    "version": 3
   },
   "file_extension": ".py",
   "mimetype": "text/x-python",
   "name": "python",
   "nbconvert_exporter": "python",
   "pygments_lexer": "ipython3",
   "version": "3.12.3"
  },
  "widgets": {
   "application/vnd.jupyter.widget-state+json": {
    "state": {},
    "version_major": 2,
    "version_minor": 0
   }
  }
 },
 "nbformat": 4,
 "nbformat_minor": 5
}
