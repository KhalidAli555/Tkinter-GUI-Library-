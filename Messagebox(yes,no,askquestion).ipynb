{
 "cells": [
  {
   "cell_type": "code",
   "execution_count": 7,
   "id": "796c5f33-0dd1-4c56-b1b3-9804358942e9",
   "metadata": {},
   "outputs": [],
   "source": [
    "from tkinter import *\n",
    "from tkinter.messagebox import askyesno\n",
    "\n",
    "# Create the main window\n",
    "win = Tk()\n",
    "\n",
    "# Define the function that shows the askyesno message box\n",
    "def yesno():\n",
    "    ans = askyesno(title='Messagebox', message=\"Welcome To WsCube Tech\")   # this will give answer true when you press yes and false when press No\n",
    "\n",
    "# Create a button that triggers the 'yesno' function when clicked\n",
    "button = Button(win, text=\"Ok\", command=yesno, font=(\"Ariel\", 20, \"bold\"))\n",
    "button.pack(padx=2, pady=2)\n",
    "\n",
    "# Start the Tkinter event loop\n",
    "win.mainloop()"
   ]
  },
  {
   "cell_type": "code",
   "execution_count": 9,
   "id": "68b318f8-e884-48e3-a468-8485c4af7e71",
   "metadata": {},
   "outputs": [],
   "source": [
    "from tkinter import *\n",
    "from tkinter.messagebox import askquestion\n",
    "\n",
    "# Create the main window\n",
    "win = Tk()\n",
    "\n",
    "# Define the function that shows the askokcancel message box\n",
    "def ask_question():\n",
    "    ans = askquestion(title='Messagebox', message=\"Hello\")     # this will give answer yes when you press yes and no when press no\n",
    "\n",
    "# Create a button that triggers the 'okcancel' function when clicked\n",
    "button = Button(win, text=\"Ok\", command=ask_question, font=(\"Ariel\", 20, \"bold\"))\n",
    "button.pack(padx=2, pady=2)\n",
    "\n",
    "# Start the Tkinter event loop\n",
    "win.mainloop()"
   ]
  },
  {
   "cell_type": "code",
   "execution_count": null,
   "id": "ac3406ad-db54-4cc1-87e6-5b63f091d587",
   "metadata": {},
   "outputs": [],
   "source": []
  }
 ],
 "metadata": {
  "kernelspec": {
   "display_name": "Python 3 (ipykernel)",
   "language": "python",
   "name": "python3"
  },
  "language_info": {
   "codemirror_mode": {
    "name": "ipython",
    "version": 3
   },
   "file_extension": ".py",
   "mimetype": "text/x-python",
   "name": "python",
   "nbconvert_exporter": "python",
   "pygments_lexer": "ipython3",
   "version": "3.12.3"
  },
  "widgets": {
   "application/vnd.jupyter.widget-state+json": {
    "state": {},
    "version_major": 2,
    "version_minor": 0
   }
  }
 },
 "nbformat": 4,
 "nbformat_minor": 5
}
