{
 "cells": [
  {
   "cell_type": "code",
   "execution_count": 11,
   "id": "88320ad4-1cbb-4051-8ad3-0b1d0d46b9e0",
   "metadata": {},
   "outputs": [],
   "source": [
    "from tkinter import *\n",
    "\n",
    "# Create the main window\n",
    "win = Tk()\n",
    "win.title(\"Option Menu\")\n",
    "win.geometry(\"300x200\")  # Set the window size\n",
    "\n",
    "# Define the list of options\n",
    "opt_list = ['C#', 'Python', 'Java', 'C++', 'C', 'JavaScript']\n",
    "\n",
    "# Create a StringVar to hold the value of the selected option\n",
    "value = StringVar()\n",
    "value.set(\"Menu\")  # Set the default value\n",
    "\n",
    "# Create the OptionMenu widget\n",
    "op = OptionMenu(win, value, *opt_list)\n",
    "op.place(x=100, y=80, height=30, width=100)  # Adjust positioning to center\n",
    "\n",
    "# Run the main event loop\n",
    "win.mainloop()\n"
   ]
  },
  {
   "cell_type": "code",
   "execution_count": 12,
   "id": "e15af370-6997-4ea2-803c-3569f5d6afc5",
   "metadata": {},
   "outputs": [],
   "source": [
    "from tkinter import *\n",
    "\n",
    "# Create the main window\n",
    "win = Tk()\n",
    "\n",
    "def change_value(var):\n",
    "    var=value.get()\n",
    "    lb.config(text=var)\n",
    "\n",
    "win.title(\"Option Menu\")\n",
    "win.geometry(\"300x200\")  # Set the window size\n",
    "\n",
    "# Define the list of options\n",
    "opt_list = ['C#', 'Python', 'Java', 'C++', 'C', 'JavaScript']\n",
    "\n",
    "# Create a StringVar to hold the value of the selected option\n",
    "value = StringVar()\n",
    "value.set(\"Menu\")  # Set the default value\n",
    "\n",
    "# Create the OptionMenu widget\n",
    "op = OptionMenu(win, value,command=change_value, *opt_list)\n",
    "op.place(x=100, y=80, height=30, width=100)  # Adjust positioning to center\n",
    "\n",
    "# Label to display the selected option\n",
    "lb=Label(win,text=\"\")\n",
    "lb.place(x=200,y=100,height=100,width=100)\n",
    "\n",
    "# Run the main event loop\n",
    "win.mainloop()\n"
   ]
  },
  {
   "cell_type": "code",
   "execution_count": null,
   "id": "b93b336e-9fde-47f5-9f6b-ff8341bc697b",
   "metadata": {},
   "outputs": [],
   "source": []
  }
 ],
 "metadata": {
  "kernelspec": {
   "display_name": "Python 3 (ipykernel)",
   "language": "python",
   "name": "python3"
  },
  "language_info": {
   "codemirror_mode": {
    "name": "ipython",
    "version": 3
   },
   "file_extension": ".py",
   "mimetype": "text/x-python",
   "name": "python",
   "nbconvert_exporter": "python",
   "pygments_lexer": "ipython3",
   "version": "3.12.3"
  },
  "widgets": {
   "application/vnd.jupyter.widget-state+json": {
    "state": {},
    "version_major": 2,
    "version_minor": 0
   }
  }
 },
 "nbformat": 4,
 "nbformat_minor": 5
}
