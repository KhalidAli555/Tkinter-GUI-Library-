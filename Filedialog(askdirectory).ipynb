{
 "cells": [
  {
   "cell_type": "code",
   "execution_count": 4,
   "id": "f48f688f-afad-4508-a2ce-1c0e6a166e5f",
   "metadata": {},
   "outputs": [
    {
     "name": "stdout",
     "output_type": "stream",
     "text": [
      "C:/Users/PC/Desktop/Churn Prediction\n"
     ]
    }
   ],
   "source": [
    "# show the path of directory\n",
    "from tkinter import *\n",
    "from tkinter import filedialog\n",
    "\n",
    "win=Tk()\n",
    "\n",
    "def directory():\n",
    "    var=filedialog.askdirectory(title=\"WsCube\",initialdir=\"/\")\n",
    "    print(var)\n",
    "win.title(\"askdirectory\")\n",
    "button=Button(win,text=\"OK\",command=directory)\n",
    "button.place(x=20,y=20,height=40,width=30)\n",
    "\n",
    "win.mainloop()"
   ]
  },
  {
   "cell_type": "code",
   "execution_count": null,
   "id": "b2bebd45-cd63-4d22-88b3-bc13404c7615",
   "metadata": {},
   "outputs": [],
   "source": []
  }
 ],
 "metadata": {
  "kernelspec": {
   "display_name": "Python 3 (ipykernel)",
   "language": "python",
   "name": "python3"
  },
  "language_info": {
   "codemirror_mode": {
    "name": "ipython",
    "version": 3
   },
   "file_extension": ".py",
   "mimetype": "text/x-python",
   "name": "python",
   "nbconvert_exporter": "python",
   "pygments_lexer": "ipython3",
   "version": "3.12.3"
  },
  "widgets": {
   "application/vnd.jupyter.widget-state+json": {
    "state": {},
    "version_major": 2,
    "version_minor": 0
   }
  }
 },
 "nbformat": 4,
 "nbformat_minor": 5
}
