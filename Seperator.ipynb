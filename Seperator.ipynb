{
 "cells": [
  {
   "cell_type": "code",
   "execution_count": 13,
   "id": "9d021b2b-fb86-411b-a371-c4c1eb29eabb",
   "metadata": {},
   "outputs": [],
   "source": [
    "from tkinter import *\n",
    "from tkinter import ttk\n",
    "win=Tk()\n",
    "win.title(\"Separator\")\n",
    "\n",
    "label1=Label(win,text='Python',font=(\"Arial\", 30, \"bold\"))\n",
    "label1.pack()\n",
    "\n",
    "seperator=ttk.Separator(win,orient=\"horizontal\")\n",
    "seperator.pack(fill=X)\n",
    "\n",
    "label2=Label(win,text='Java',font=(\"Arial\", 30, \"bold\"))\n",
    "label2.pack()\n",
    "\n",
    "\n",
    "win.mainloop()"
   ]
  },
  {
   "cell_type": "code",
   "execution_count": null,
   "id": "76aec653-b959-4cc9-98b3-1d012004e572",
   "metadata": {},
   "outputs": [],
   "source": []
  }
 ],
 "metadata": {
  "kernelspec": {
   "display_name": "Python 3 (ipykernel)",
   "language": "python",
   "name": "python3"
  },
  "language_info": {
   "codemirror_mode": {
    "name": "ipython",
    "version": 3
   },
   "file_extension": ".py",
   "mimetype": "text/x-python",
   "name": "python",
   "nbconvert_exporter": "python",
   "pygments_lexer": "ipython3",
   "version": "3.12.3"
  },
  "widgets": {
   "application/vnd.jupyter.widget-state+json": {
    "state": {},
    "version_major": 2,
    "version_minor": 0
   }
  }
 },
 "nbformat": 4,
 "nbformat_minor": 5
}
