{
 "cells": [
  {
   "cell_type": "code",
   "execution_count": 10,
   "id": "a94f1178-08f3-4de3-9379-e5dd91a2edbd",
   "metadata": {},
   "outputs": [],
   "source": [
    "from tkinter import *\n",
    "\n",
    "win = Tk()\n",
    "\n",
    "# Create a menu object\n",
    "Main_menu = Menu(win)\n",
    "# Configure the window to display the menu\n",
    "win.config(menu=Main_menu)\n",
    "\n",
    "# Create a submenu for 'File'\n",
    "f_menu = Menu(Main_menu, tearoff=0)\n",
    "f_menu.add_command(label='New File')\n",
    "f_menu.add_command(label='Open File')\n",
    "\n",
    "# add line between these files\n",
    "f_menu.add_separator()\n",
    "\n",
    "f_menu.add_command(label='Save File')\n",
    "f_menu.add_command(label='Save As File')\n",
    "\n",
    "# Add the 'File' submenu to the menu bar\n",
    "Main_menu.add_cascade(label='File', menu=f_menu)\n",
    "\n",
    "\n",
    "# Create a submenu for 'Edit'\n",
    "f_menu1 = Menu(Main_menu, tearoff=0)\n",
    "f_menu1.add_command(label='Copy ')\n",
    "f_menu1.add_command(label='Paste')\n",
    "f_menu1.add_command(label='Delete')\n",
    "\n",
    "# add line between these files\n",
    "f_menu1.add_separator()\n",
    "\n",
    "f_menu1.add_command(label='Undo')\n",
    "\n",
    "# Add the 'Edit' submenu to the menu bar\n",
    "Main_menu.add_cascade(label='Edit', menu=f_menu1)\n",
    "\n",
    "\n",
    "\n",
    "win.mainloop()\n"
   ]
  },
  {
   "cell_type": "code",
   "execution_count": 4,
   "id": "0906078b-c3c2-4c94-8d74-128bcb548164",
   "metadata": {},
   "outputs": [],
   "source": [
    "from tkinter import *\n",
    "\n",
    "win = Tk()\n",
    "\n",
    "# Create a menu object\n",
    "Main_menu = Menu(win)\n",
    "# Configure the window to display the menu\n",
    "win.config(menu=Main_menu)\n",
    "\n",
    "# Create a submenu for 'File'\n",
    "f_menu = Menu(Main_menu, tearoff=0)\n",
    "f_menu.add_command(label='New File')\n",
    "\n",
    "# Create a submenu under 'New File'\n",
    "sub_menu = Menu(f_menu, tearoff=0)\n",
    "sub_menu.add_command(label='Console')\n",
    "sub_menu.add_command(label='Notebook')\n",
    "sub_menu.add_command(label='Terminal')\n",
    "sub_menu.add_command(label='Text File')\n",
    "# Add the 'Open File' submenu to the 'File' menu\n",
    "f_menu.add_cascade(label=' OPen File', menu=sub_menu)\n",
    "\n",
    "# Add more options in the 'File' menu\n",
    "f_menu.add_separator()\n",
    "f_menu.add_command(label='Save File')\n",
    "f_menu.add_command(label='Save As File')\n",
    "\n",
    "# Add the 'File' submenu to the menu bar\n",
    "Main_menu.add_cascade(label='File', menu=f_menu)\n",
    "\n",
    "win.mainloop()\n"
   ]
  },
  {
   "cell_type": "code",
   "execution_count": null,
   "id": "54fd4a28-42e9-42be-b60f-c963bd1613c4",
   "metadata": {},
   "outputs": [],
   "source": []
  }
 ],
 "metadata": {
  "kernelspec": {
   "display_name": "Python 3 (ipykernel)",
   "language": "python",
   "name": "python3"
  },
  "language_info": {
   "codemirror_mode": {
    "name": "ipython",
    "version": 3
   },
   "file_extension": ".py",
   "mimetype": "text/x-python",
   "name": "python",
   "nbconvert_exporter": "python",
   "pygments_lexer": "ipython3",
   "version": "3.12.3"
  },
  "widgets": {
   "application/vnd.jupyter.widget-state+json": {
    "state": {},
    "version_major": 2,
    "version_minor": 0
   }
  }
 },
 "nbformat": 4,
 "nbformat_minor": 5
}
