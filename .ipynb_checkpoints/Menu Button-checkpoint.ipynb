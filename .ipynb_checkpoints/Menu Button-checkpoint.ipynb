{
 "cells": [
  {
   "cell_type": "code",
   "execution_count": 1,
   "id": "636a86ea-14e1-48d2-8a72-d79a1aa7f652",
   "metadata": {},
   "outputs": [],
   "source": [
    "from tkinter import *"
   ]
  },
  {
   "cell_type": "code",
   "execution_count": 8,
   "id": "684f418d-076c-4f6a-abbe-a7f5101cb2b9",
   "metadata": {},
   "outputs": [],
   "source": [
    "win=Tk()\n",
    "\n",
    "menu_button=Menubutton(win,text=\"file\")\n",
    "menu_button.menu=Menu(menu_button,tearoff=0)  # tearoff use for not move munu button in screen.\n",
    "menu_button['menu']=menu_button.menu\n",
    "\n",
    "menu_button.menu.add_checkbutton(label='New File')\n",
    "menu_button.menu.add_checkbutton(label='Open File')\n",
    "menu_button.menu.add_checkbutton(label='Close File')\n",
    "\n",
    "menu_button.pack()\n",
    "win.mainloop()"
   ]
  },
  {
   "cell_type": "code",
   "execution_count": null,
   "id": "ba5144e7-a643-40d6-aa58-e6fe3783df09",
   "metadata": {},
   "outputs": [],
   "source": []
  }
 ],
 "metadata": {
  "kernelspec": {
   "display_name": "Python 3 (ipykernel)",
   "language": "python",
   "name": "python3"
  },
  "language_info": {
   "codemirror_mode": {
    "name": "ipython",
    "version": 3
   },
   "file_extension": ".py",
   "mimetype": "text/x-python",
   "name": "python",
   "nbconvert_exporter": "python",
   "pygments_lexer": "ipython3",
   "version": "3.12.3"
  },
  "widgets": {
   "application/vnd.jupyter.widget-state+json": {
    "state": {},
    "version_major": 2,
    "version_minor": 0
   }
  }
 },
 "nbformat": 4,
 "nbformat_minor": 5
}
