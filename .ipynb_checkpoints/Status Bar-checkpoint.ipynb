{
 "cells": [
  {
   "cell_type": "code",
   "execution_count": 5,
   "id": "c93f87b3-8d4f-4dff-8854-02aa29f299c3",
   "metadata": {},
   "outputs": [],
   "source": [
    "from tkinter import *\n",
    "\n",
    "# Create the main window\n",
    "win = Tk()\n",
    "\n",
    "# Create a status bar with a sunken relief, left-anchored text, and a border\n",
    "status_bar = Label(win, text=\"Ready\", relief=SUNKEN, anchor=W, bd=5)\n",
    "status_bar.pack(side=BOTTOM, fill=X)  # Place the status bar at the bottom and make it stretch horizontally\n",
    "\n",
    "# Start the Tkinter event loop\n",
    "win.mainloop()\n",
    "\n",
    "# Explanation\n",
    "\n",
    " #  relief=SUNKEN: Gives the label a sunken appearance to resemble a status bar.\n",
    "#  anchor=W: Aligns the text to the left (west).\n",
    "#  bd=5: Sets the border width for the label.\n",
    "#  fill=X: Ensures the status bar stretches across the entire width of the window."
   ]
  },
  {
   "cell_type": "code",
   "execution_count": 9,
   "id": "8fa37eeb-1204-44ab-82f7-f76eefcc9d98",
   "metadata": {},
   "outputs": [],
   "source": [
    "\n",
    "# now click on button and change the text of the status bar(ready to Go)\n",
    "\n",
    "from tkinter import *\n",
    "\n",
    "# Create the main window\n",
    "win = Tk()\n",
    "\n",
    "# Define the function to change the status bar text\n",
    "def change():\n",
    "    status_bar.config(text=\"Go\")\n",
    "\n",
    "# Create a status bar with a sunken relief, left-anchored text, and a border\n",
    "status_bar = Label(win, text=\"Ready\", relief=SUNKEN, anchor=W, bd=5)\n",
    "status_bar.pack(side=BOTTOM, fill=X)  # Place the status bar at the bottom and make it stretch horizontally\n",
    "\n",
    "# Create a button that triggers the 'change' function when clicked\n",
    "button = Button(win, text=\"OK\", command=change)\n",
    "button.pack(padx=2, pady=2)\n",
    "\n",
    "# Start the Tkinter event loop\n",
    "win.mainloop()\n"
   ]
  },
  {
   "cell_type": "code",
   "execution_count": null,
   "id": "211d7f1c-dbb8-49c4-bbb8-2df60d282d62",
   "metadata": {},
   "outputs": [],
   "source": []
  }
 ],
 "metadata": {
  "kernelspec": {
   "display_name": "Python 3 (ipykernel)",
   "language": "python",
   "name": "python3"
  },
  "language_info": {
   "codemirror_mode": {
    "name": "ipython",
    "version": 3
   },
   "file_extension": ".py",
   "mimetype": "text/x-python",
   "name": "python",
   "nbconvert_exporter": "python",
   "pygments_lexer": "ipython3",
   "version": "3.12.3"
  },
  "widgets": {
   "application/vnd.jupyter.widget-state+json": {
    "state": {},
    "version_major": 2,
    "version_minor": 0
   }
  }
 },
 "nbformat": 4,
 "nbformat_minor": 5
}
