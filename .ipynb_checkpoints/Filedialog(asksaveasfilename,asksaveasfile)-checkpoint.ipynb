{
 "cells": [
  {
   "cell_type": "code",
   "execution_count": 3,
   "id": "ed364edd-499e-47ca-82c2-29ec4130a5cf",
   "metadata": {},
   "outputs": [],
   "source": [
    "from tkinter import *\n",
    "from tkinter import filedialog\n",
    "\n",
    "# Function to open save file dialog and save text to the specified file\n",
    "def save_file():\n",
    "    # Open Save As dialog to get the path and file name for saving\n",
    "    file_path = filedialog.asksaveasfilename(\n",
    "        title=\"Save File\",\n",
    "        defaultextension=\".txt\",\n",
    "        filetypes=((\"Text files\", \"*.txt\"), (\"All files\", \"*.*\"))\n",
    "    )\n",
    "    if file_path:\n",
    "        # Open the specified file path and write text to it\n",
    "        with open(file_path, \"w\") as file:\n",
    "            file.write(\"This is the content that will be saved to the file.\")\n",
    "            print(f\"File saved as: {file_path}\")\n",
    "\n",
    "# Create a main window instance\n",
    "win = Tk()\n",
    "win.title(\"Save File Dialog Example\")\n",
    "\n",
    "# Button to trigger the save file dialog\n",
    "save_button = Button(win, text=\"Save File\", command=save_file)\n",
    "save_button.pack(pady=10)\n",
    "\n",
    "# Start the Tkinter main loop within the Jupyter Notebook\n",
    "win.mainloop()\n"
   ]
  },
  {
   "cell_type": "code",
   "execution_count": null,
   "id": "34f6a1ca-0ab9-47cd-8096-8633290f2e92",
   "metadata": {},
   "outputs": [],
   "source": []
  }
 ],
 "metadata": {
  "kernelspec": {
   "display_name": "Python 3 (ipykernel)",
   "language": "python",
   "name": "python3"
  },
  "language_info": {
   "codemirror_mode": {
    "name": "ipython",
    "version": 3
   },
   "file_extension": ".py",
   "mimetype": "text/x-python",
   "name": "python",
   "nbconvert_exporter": "python",
   "pygments_lexer": "ipython3",
   "version": "3.12.3"
  },
  "widgets": {
   "application/vnd.jupyter.widget-state+json": {
    "state": {},
    "version_major": 2,
    "version_minor": 0
   }
  }
 },
 "nbformat": 4,
 "nbformat_minor": 5
}
