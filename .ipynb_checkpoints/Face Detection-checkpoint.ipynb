{
 "cells": [
  {
   "cell_type": "code",
   "execution_count": 1,
   "id": "760916ba-cad1-4e0e-9a8a-1228d0f3e278",
   "metadata": {},
   "outputs": [
    {
     "name": "stdout",
     "output_type": "stream",
     "text": [
      "Requirement already satisfied: opencv-python in c:\\users\\pc\\appdata\\local\\programs\\python\\python312\\lib\\site-packages (4.10.0.84)\n",
      "Requirement already satisfied: numpy>=1.21.2 in c:\\users\\pc\\appdata\\local\\programs\\python\\python312\\lib\\site-packages (from opencv-python) (1.26.4)\n"
     ]
    }
   ],
   "source": [
    "!pip install opencv-python"
   ]
  },
  {
   "cell_type": "code",
   "execution_count": null,
   "id": "609b9555-91ad-423c-824f-10e6053b42fe",
   "metadata": {},
   "outputs": [],
   "source": [
    "import cv2\n",
    "\n",
    "# Load the pre-trained eye detection model (cascade classifier)\n",
    "face_cap = cv2.CascadeClassifier(r'C:\\Users\\PC\\AppData\\Local\\Programs\\Python\\Python312\\Lib\\site-packages\\cv2\\data\\haarcascade_eye.xml')\n",
    "\n",
    "# Check if the cascade classifier is loaded correctly\n",
    "if face_cap.empty():\n",
    "    print(\"Error: Could not load the cascade classifier\")\n",
    "    exit()\n",
    "\n",
    "# Start video capture from the default camera\n",
    "video_cap = cv2.VideoCapture(0)\n",
    "\n",
    "# Check if the camera is accessed correctly\n",
    "if not video_cap.isOpened():\n",
    "    print(\"Error: Could not access the camera\")\n",
    "    exit()\n",
    "\n",
    "while True:\n",
    "    # Read frame-by-frame from the video capture\n",
    "    ret, video_data = video_cap.read()\n",
    "\n",
    "    if not ret:\n",
    "        print(\"Failed to capture video frame\")\n",
    "        break\n",
    "\n",
    "    # Convert the frame to grayscale\n",
    "    col = cv2.cvtColor(video_data, cv2.COLOR_BGR2GRAY)\n",
    "\n",
    "    # Detect eyes in the frame\n",
    "    eyes = face_cap.detectMultiScale(\n",
    "        col,\n",
    "        scaleFactor=1.1,\n",
    "        minNeighbors=5,\n",
    "        minSize=(30, 30),\n",
    "        flags=cv2.CASCADE_SCALE_IMAGE\n",
    "    )\n",
    "\n",
    "    print(f\"Detected {len(eyes)} eye(s)\")\n",
    "\n",
    "    # Draw rectangles around the detected eyes\n",
    "    for (x, y, w, h) in eyes:\n",
    "        cv2.rectangle(video_data, (x, y), (x + w, y + h), (0, 255, 0), 2)\n",
    "\n",
    "    # Display the video with the detected eyes\n",
    "    cv2.imshow(\"Video Live\", video_data)\n",
    "\n",
    "    # Break the loop if 'a' is pressed\n",
    "    if cv2.waitKey(10) == ord('a'):\n",
    "        break\n",
    "\n",
    "# Release the video capture and close any OpenCV windows\n",
    "video_cap.release()\n",
    "cv2.destroyAllWindows()\n"
   ]
  },
  {
   "cell_type": "code",
   "execution_count": null,
   "id": "637019cf-b803-4063-8122-806b43b59e2b",
   "metadata": {},
   "outputs": [],
   "source": []
  }
 ],
 "metadata": {
  "kernelspec": {
   "display_name": "Python 3 (ipykernel)",
   "language": "python",
   "name": "python3"
  },
  "language_info": {
   "codemirror_mode": {
    "name": "ipython",
    "version": 3
   },
   "file_extension": ".py",
   "mimetype": "text/x-python",
   "name": "python",
   "nbconvert_exporter": "python",
   "pygments_lexer": "ipython3",
   "version": "3.12.3"
  },
  "widgets": {
   "application/vnd.jupyter.widget-state+json": {
    "state": {},
    "version_major": 2,
    "version_minor": 0
   }
  }
 },
 "nbformat": 4,
 "nbformat_minor": 5
}
