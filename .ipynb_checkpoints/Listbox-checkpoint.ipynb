{
 "cells": [
  {
   "cell_type": "code",
   "execution_count": 4,
   "id": "1e46d3a9-2ed6-48b8-97e1-a1c9631ff15d",
   "metadata": {},
   "outputs": [],
   "source": [
    "from tkinter import *\n",
    "win=Tk()\n",
    "win.title(\"Listbox\")\n",
    "\n",
    "list1=[\"Python\",\"Java\",\"C#\",\"C++\",\"Javascript\"]\n",
    "\n",
    "var=StringVar(value=list1)\n",
    "\n",
    "listbox=Listbox(win,listvariable=var,selectmode=\"extended\")   # selectmode select multiple option from list\n",
    "listbox.place(x=20,y=20,height=100,width=100)\n",
    "\n",
    "win.mainloop()"
   ]
  },
  {
   "cell_type": "code",
   "execution_count": null,
   "id": "53fd3347-4dc4-421a-8f78-7667a8c1d839",
   "metadata": {},
   "outputs": [],
   "source": []
  }
 ],
 "metadata": {
  "kernelspec": {
   "display_name": "Python 3 (ipykernel)",
   "language": "python",
   "name": "python3"
  },
  "language_info": {
   "codemirror_mode": {
    "name": "ipython",
    "version": 3
   },
   "file_extension": ".py",
   "mimetype": "text/x-python",
   "name": "python",
   "nbconvert_exporter": "python",
   "pygments_lexer": "ipython3",
   "version": "3.12.3"
  },
  "widgets": {
   "application/vnd.jupyter.widget-state+json": {
    "state": {},
    "version_major": 2,
    "version_minor": 0
   }
  }
 },
 "nbformat": 4,
 "nbformat_minor": 5
}
