{
 "cells": [
  {
   "cell_type": "code",
   "execution_count": 3,
   "id": "6038a47f-8224-495a-b25d-538f74e4e16f",
   "metadata": {},
   "outputs": [],
   "source": [
    "from tkinter import *\n",
    "\n",
    "# Create the main window\n",
    "win = Tk()\n",
    "win.title(\"Spinbox\")\n",
    "\n",
    "# Create a Spinbox widget\n",
    "spinbox = Spinbox(win, from_=0, to=10)\n",
    "spinbox.pack()\n",
    "\n",
    "# Run the window's main loop\n",
    "win.mainloop()\n"
   ]
  },
  {
   "cell_type": "code",
   "execution_count": 8,
   "id": "b245d522-a38b-4b36-a2f0-3416fe9c96b7",
   "metadata": {},
   "outputs": [],
   "source": [
    "# adds functionality to display the selected Spinbox value in a Label widget using the test() function.\n",
    "\n",
    "from tkinter import *\n",
    "\n",
    "# Create the main window\n",
    "win = Tk()\n",
    "win.title(\"Spinbox\")\n",
    "\n",
    "# Function to update the label with the Spinbox value\n",
    "def test():\n",
    "    lb.config(text=var.get())\n",
    "\n",
    "# Create an IntVar to store the Spinbox value\n",
    "var = IntVar()\n",
    "\n",
    "# Create a Spinbox widget with a command and textvariable\n",
    "spinbox = Spinbox(win, from_=0, to=10, command=test, textvariable=var)\n",
    "spinbox.pack()\n",
    "\n",
    "# Create a label to display the value\n",
    "lb = Label(win, text=\"\", font=('bold', 10))\n",
    "lb.pack()\n",
    "\n",
    "# Run the window's main loop\n",
    "win.mainloop()\n",
    "\n"
   ]
  },
  {
   "cell_type": "code",
   "execution_count": null,
   "id": "57f7ed3f-a9a0-451b-a4d2-98749b1fb05f",
   "metadata": {},
   "outputs": [],
   "source": []
  }
 ],
 "metadata": {
  "kernelspec": {
   "display_name": "Python 3 (ipykernel)",
   "language": "python",
   "name": "python3"
  },
  "language_info": {
   "codemirror_mode": {
    "name": "ipython",
    "version": 3
   },
   "file_extension": ".py",
   "mimetype": "text/x-python",
   "name": "python",
   "nbconvert_exporter": "python",
   "pygments_lexer": "ipython3",
   "version": "3.12.3"
  },
  "widgets": {
   "application/vnd.jupyter.widget-state+json": {
    "state": {},
    "version_major": 2,
    "version_minor": 0
   }
  }
 },
 "nbformat": 4,
 "nbformat_minor": 5
}
