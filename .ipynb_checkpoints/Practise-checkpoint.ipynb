{
 "cells": [
  {
   "cell_type": "code",
   "execution_count": 29,
   "id": "acda747e-a859-48b4-9422-47096aafab9e",
   "metadata": {},
   "outputs": [],
   "source": [
    "# login form\n",
    "from tkinter import *\n",
    "\n",
    "win=Tk()\n",
    "win.title(\"Login Form\")\n",
    "win.geometry('300x300')\n",
    "win.resizable(False,False)\n",
    "# title\n",
    "label=Label(win,text='Login',font=(\"Ariel\",20,'bold'),bg='pink')\n",
    "label.place(x=100,y=20,height=40,width=100)\n",
    "# user name\n",
    "label_username=Label(win,text='Username',font=(\"Ariel\",10,'bold'))\n",
    "label_username.place(x=20,y=80,height=20,width=100)\n",
    "\n",
    "entry_username=Entry(win,font=(\"Ariel\",10,'bold'))\n",
    "entry_username.place(x=105,y=80,height=20,width=150)\n",
    "\n",
    "\n",
    "# passward\n",
    "\n",
    "label_userpassward=Label(win,text='Passward',font=(\"Ariel\",10,'bold'))\n",
    "label_userpassward.place(x=20,y=120,height=20,width=100)\n",
    "\n",
    "entry_userpassward=Entry(win,font=(\"Ariel\",10,'bold'))\n",
    "entry_userpassward.place(x=105,y=120,height=20,width=150)\n",
    "\n",
    "#button\n",
    "\n",
    "button=Button(win,text=\"Login\",font=(\"Ariel\",10,'bold'),bg='pink')\n",
    "button.place(x=115,y=160,height=40,width=50)\n",
    "\n",
    "win.mainloop()"
   ]
  },
  {
   "cell_type": "code",
   "execution_count": null,
   "id": "8268c396-0fdc-45e2-8dce-81ce6f5b87f1",
   "metadata": {},
   "outputs": [],
   "source": []
  }
 ],
 "metadata": {
  "kernelspec": {
   "display_name": "Python 3 (ipykernel)",
   "language": "python",
   "name": "python3"
  },
  "language_info": {
   "codemirror_mode": {
    "name": "ipython",
    "version": 3
   },
   "file_extension": ".py",
   "mimetype": "text/x-python",
   "name": "python",
   "nbconvert_exporter": "python",
   "pygments_lexer": "ipython3",
   "version": "3.12.3"
  },
  "widgets": {
   "application/vnd.jupyter.widget-state+json": {
    "state": {},
    "version_major": 2,
    "version_minor": 0
   }
  }
 },
 "nbformat": 4,
 "nbformat_minor": 5
}
