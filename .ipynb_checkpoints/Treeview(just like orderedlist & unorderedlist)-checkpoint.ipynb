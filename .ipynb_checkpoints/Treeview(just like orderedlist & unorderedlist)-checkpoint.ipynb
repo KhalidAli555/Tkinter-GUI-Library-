{
 "cells": [
  {
   "cell_type": "code",
   "execution_count": 1,
   "id": "46507ba2-a36c-44fa-b75f-1f3f07005822",
   "metadata": {},
   "outputs": [],
   "source": [
    "# data show in tabular form\n",
    "import tkinter as tk\n",
    "from tkinter import ttk\n",
    "\n",
    "# Create the main window\n",
    "root = tk.Tk()\n",
    "root.title(\"Tkinter Treeview Example\")\n",
    "root.geometry(\"500x300\")\n",
    "\n",
    "# Create a Treeview widget\n",
    "tree = ttk.Treeview(root)\n",
    "\n",
    "# Define columns\n",
    "tree[\"columns\"] = (\"Name\", \"Age\", \"Country\")\n",
    "\n",
    "# Format columns\n",
    "tree.column(\"#0\", width=120, minwidth=25)  # This is the \"tree\" column, often used for hierarchical data\n",
    "tree.column(\"Name\", anchor=tk.W, width=120)\n",
    "tree.column(\"Age\", anchor=tk.CENTER, width=80)\n",
    "tree.column(\"Country\", anchor=tk.W, width=120)\n",
    "\n",
    "# Create column headers\n",
    "tree.heading(\"#0\", text=\"ID\", anchor=tk.W)\n",
    "tree.heading(\"Name\", text=\"Name\", anchor=tk.W)\n",
    "tree.heading(\"Age\", text=\"Age\", anchor=tk.CENTER)\n",
    "tree.heading(\"Country\", text=\"Country\", anchor=tk.W)\n",
    "\n",
    "# Add data to the Treeview\n",
    "tree.insert(parent=\"\", index=\"end\", iid=0, text=\"1\", values=(\"Alice\", 25, \"USA\"))\n",
    "tree.insert(parent=\"\", index=\"end\", iid=1, text=\"2\", values=(\"Bob\", 30, \"UK\"))\n",
    "tree.insert(parent=\"\", index=\"end\", iid=2, text=\"3\", values=(\"Charlie\", 22, \"Canada\"))\n",
    "tree.insert(parent=\"\", index=\"end\", iid=3, text=\"4\", values=(\"David\", 28, \"Australia\"))\n",
    "\n",
    "# Pack the treeview widget\n",
    "tree.pack(pady=20)\n",
    "\n",
    "# Run the application\n",
    "root.mainloop()\n"
   ]
  },
  {
   "cell_type": "code",
   "execution_count": 6,
   "id": "990286da-97e8-459d-8d65-33ef4680e2b5",
   "metadata": {},
   "outputs": [],
   "source": [
    "# tree like structure(hierarchical structure)\n",
    "\n",
    "import tkinter as tk\n",
    "from tkinter import ttk\n",
    "\n",
    "# Create the main window\n",
    "root = tk.Tk()\n",
    "root.title(\"Language and Development Options\")\n",
    "root.geometry(\"400x300\")\n",
    "\n",
    "# Create a Treeview widget\n",
    "tree = ttk.Treeview(root)\n",
    "\n",
    "# Define columns (only using the hierarchical column #0)\n",
    "tree[\"columns\"] = ()\n",
    "\n",
    "# Set up the main tree column\n",
    "tree.column(\"#0\", width=200, minwidth=150)\n",
    "tree.heading(\"#0\", text=\"Options\", anchor=tk.W)\n",
    "\n",
    "# Add main categories\n",
    "tree.insert(\"\", \"end\", iid=1, text=\"Python\")\n",
    "tree.insert(\"\", \"end\", iid=2, text=\"Java\")\n",
    "tree.insert(\"\", \"end\", iid=3, text=\"Web Development\")\n",
    "\n",
    "# Add sub-options for Python\n",
    "tree.insert(1, \"end\", iid=4, text=\"Machine Learning (ML)\")\n",
    "tree.insert(1, \"end\", iid=5, text=\"Data Science (DS)\")\n",
    "\n",
    "# Add sub-options for Web Development\n",
    "tree.insert(3, \"end\", iid=6, text=\"HTML\")\n",
    "tree.insert(3, \"end\", iid=7, text=\"CSS\")\n",
    "\n",
    "# Pack the treeview widget\n",
    "tree.pack(pady=20, fill=\"both\", expand=True)\n",
    "\n",
    "# Run the application\n",
    "root.mainloop()\n"
   ]
  },
  {
   "cell_type": "code",
   "execution_count": null,
   "id": "ae66731f-9233-418f-ab29-18ae42c0e1fb",
   "metadata": {},
   "outputs": [],
   "source": []
  }
 ],
 "metadata": {
  "kernelspec": {
   "display_name": "Python 3 (ipykernel)",
   "language": "python",
   "name": "python3"
  },
  "language_info": {
   "codemirror_mode": {
    "name": "ipython",
    "version": 3
   },
   "file_extension": ".py",
   "mimetype": "text/x-python",
   "name": "python",
   "nbconvert_exporter": "python",
   "pygments_lexer": "ipython3",
   "version": "3.12.3"
  },
  "widgets": {
   "application/vnd.jupyter.widget-state+json": {
    "state": {},
    "version_major": 2,
    "version_minor": 0
   }
  }
 },
 "nbformat": 4,
 "nbformat_minor": 5
}
