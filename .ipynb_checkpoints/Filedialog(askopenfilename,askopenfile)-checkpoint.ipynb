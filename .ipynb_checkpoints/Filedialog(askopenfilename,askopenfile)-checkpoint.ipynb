{
 "cells": [
  {
   "cell_type": "code",
   "execution_count": 7,
   "id": "26613b21-071f-4bf6-bdb2-15e464d007a8",
   "metadata": {},
   "outputs": [
    {
     "name": "stdout",
     "output_type": "stream",
     "text": [
      "\n",
      "C:/Users/PC/Desktop/DataSet/machine learning.txt\n"
     ]
    }
   ],
   "source": [
    "# askopenfilename\n",
    "\n",
    "from tkinter import *\n",
    "from tkinter import filedialog\n",
    "\n",
    "# Create main window\n",
    "win =Tk()\n",
    "\n",
    "def open_file():\n",
    "    # Open file dialog and get the selected file path\n",
    "    var = filedialog.askopenfilename(title=\"FileDailog\",initialdir=\"/\",filetypes=((\"txtfile\",\"*.txt\"),(\"all file\",\"*.*\")))\n",
    "    print(var)   \n",
    "\n",
    "win.title(\"File Dialog\")\n",
    "\n",
    "# Create a button to open the file dialog\n",
    "open_button =Button(win, text=\"Open File\", command=open_file)\n",
    "open_button.pack(pady=10)\n",
    "mainloop()\n",
    "\n"
   ]
  },
  {
   "cell_type": "code",
   "execution_count": null,
   "id": "d73486f7-89ac-4015-b82b-6b5cf47d3e1f",
   "metadata": {},
   "outputs": [
    {
     "name": "stdout",
     "output_type": "stream",
     "text": [
      "B1q.0rKaohQM(FHRt4l8dP%CfhiDGHTe\n",
      "\n",
      "\n",
      "Cloud in a box ka working principle yeh hota hai ke aap ek chhote se physical unit mein puri tarah se ek cloud environment ko tayar karte hain. Ismein aapke physical servers ko virtual machines aur storage resources ke liye allocate kiya jata hai. Phir, aapko ek centralized interface di jati hai jisse aap apne cloud resources ko manage kar sakte hain. Ye resources users ko self-service portal ke zariye available kiye jate hain jahan se wo apne applications deploy kar sakte hain aur resources ko scale kar sakte hain.\n",
      "\n",
      "Is tarah, cloud in a box aapko ek cost-effective aur customizable solution faraham karta hai jo aapke idaray ya shakhsiyat ke infrastructure ke liye cloud computing ke faide deta hai.\n"
     ]
    }
   ],
   "source": [
    " # askopenfile\n",
    "\n",
    "from tkinter import *\n",
    "from tkinter import filedialog\n",
    "\n",
    "# Function to open file dialog and read the selected file\n",
    "def open_file():\n",
    "    # Open file dialog and get the selected file path\n",
    "    file_path = filedialog.askopenfilename(\n",
    "        title=\"File Dialog\",\n",
    "        initialdir=\"/\",\n",
    "        filetypes=((\"Text files\", \"*.txt\"), (\"All files\", \"*.*\"))\n",
    "    )\n",
    "    if file_path:\n",
    "        # Open and read the selected file\n",
    "        with open(file_path, \"r\") as file:\n",
    "            content = file.read()\n",
    "            print(content)\n",
    "\n",
    "# Create a main window instance\n",
    "win = Tk()\n",
    "win.title(\"File Dialog Example\")\n",
    "\n",
    "# Button to trigger the open file dialog\n",
    "open_button = Button(win, text=\"Open File\", command=open_file)\n",
    "open_button.pack(pady=10)\n",
    "\n",
    "# Start the Tkinter main loop within the Jupyter Notebook\n",
    "win.mainloop()\n"
   ]
  },
  {
   "cell_type": "code",
   "execution_count": null,
   "id": "7614a9dd-adfe-4fb5-8725-e5dd0464b0cd",
   "metadata": {},
   "outputs": [],
   "source": []
  }
 ],
 "metadata": {
  "kernelspec": {
   "display_name": "Python 3 (ipykernel)",
   "language": "python",
   "name": "python3"
  },
  "language_info": {
   "codemirror_mode": {
    "name": "ipython",
    "version": 3
   },
   "file_extension": ".py",
   "mimetype": "text/x-python",
   "name": "python",
   "nbconvert_exporter": "python",
   "pygments_lexer": "ipython3",
   "version": "3.12.3"
  },
  "widgets": {
   "application/vnd.jupyter.widget-state+json": {
    "state": {},
    "version_major": 2,
    "version_minor": 0
   }
  }
 },
 "nbformat": 4,
 "nbformat_minor": 5
}
