{
 "cells": [
  {
   "cell_type": "code",
   "execution_count": 12,
   "id": "c28e1db6-0bc7-4ee4-97a4-fcf3eca36383",
   "metadata": {},
   "outputs": [],
   "source": [
    "import tkinter as tk\n",
    "\n",
    "# Create the main window\n",
    "root = tk.Tk()\n",
    "root.title(\"Tkinter Canvas Example\")\n",
    "root.geometry(\"400x400\")\n",
    "\n",
    "# Create a canvas widget\n",
    "canvas = tk.Canvas(root, width=400, height=400, bg=\"white\")\n",
    "canvas.pack()\n",
    "\n",
    "# Draw shapes on the canvas\n",
    "canvas.create_line(0, 0, 400, 400, fill=\"blue\", width=3)\n",
    "canvas.create_rectangle(200, 50, 300, 150, outline=\"green\", width=2)\n",
    "canvas.create_oval(50, 200, 150, 300, fill=\"yellow\", outline=\"red\", width=3)\n",
    "\n",
    "canvas.create_arc(50, 50, 200, 200, start=0, extent=180, fill=\"sky blue\", outline=\"blue\", width=2)\n",
    "\n",
    "\n",
    "\n",
    "\n",
    "\n",
    "\n",
    "# Add text to the canvas\n",
    "canvas.create_text(200, 300, text=\"Hello, Canvas!\", fill=\"purple\", font=(\"Arial\", 16))\n",
    "\n",
    "# Run the application\n",
    "root.mainloop()\n"
   ]
  },
  {
   "cell_type": "code",
   "execution_count": 13,
   "id": "4ee701b6-bcdf-4d5b-b2e1-67544d9bdcca",
   "metadata": {},
   "outputs": [],
   "source": [
    "# draw polygon\n",
    "\n",
    "import tkinter as tk\n",
    "\n",
    "# Create the main window\n",
    "root = tk.Tk()\n",
    "root.title(\"Tkinter Polygon Example\")\n",
    "root.geometry(\"400x400\")\n",
    "\n",
    "# Create a canvas widget\n",
    "canvas = tk.Canvas(root, width=400, height=400, bg=\"white\")\n",
    "canvas.pack()\n",
    "\n",
    "# Draw a triangle\n",
    "canvas.create_polygon(50, 50, 150, 50, 100, 150, fill=\"light blue\", outline=\"blue\", width=2)\n",
    "\n",
    "# Draw a square\n",
    "canvas.create_polygon(200, 50, 300, 50, 300, 150, 200, 150, fill=\"light green\", outline=\"green\", width=2)\n",
    "\n",
    "# Draw a custom pentagon\n",
    "canvas.create_polygon(150, 250, 250, 250, 300, 350, 200, 400, 100, 350, fill=\"light pink\", outline=\"purple\", width=2)\n",
    "\n",
    "# Run the application\n",
    "root.mainloop()\n"
   ]
  },
  {
   "cell_type": "code",
   "execution_count": 14,
   "id": "6815c602-2c12-4145-ad37-d2c3ee18cac8",
   "metadata": {},
   "outputs": [],
   "source": [
    "# draw Arc\n",
    "import tkinter as tk\n",
    "\n",
    "# Create the main window\n",
    "root = tk.Tk()\n",
    "root.title(\"Tkinter Arc Example\")\n",
    "root.geometry(\"400x400\")\n",
    "\n",
    "# Create a canvas widget\n",
    "canvas = tk.Canvas(root, width=400, height=400, bg=\"white\")\n",
    "canvas.pack()\n",
    "\n",
    "# Draw an arc on the canvas\n",
    "canvas.create_arc(50, 50, 200, 200, start=0, extent=180, fill=\"sky blue\", outline=\"blue\", width=2)\n",
    "\n",
    "# Other arcs with different angles\n",
    "canvas.create_arc(50, 250, 200, 400, start=90, extent=180, fill=\"light green\", outline=\"green\", width=2)\n",
    "canvas.create_arc(250, 50, 400, 200, start=180, extent=270, fill=\"light pink\", outline=\"red\", width=2)\n",
    "\n",
    "# Run the application\n",
    "root.mainloop()\n"
   ]
  },
  {
   "cell_type": "code",
   "execution_count": 16,
   "id": "8320215e-6c44-4c52-81dd-0cf9f66569d7",
   "metadata": {},
   "outputs": [],
   "source": [
    "# add image to canvas\n",
    "\n",
    "import tkinter as tk\n",
    "from PIL import Image, ImageTk  # Import PIL for more image formats\n",
    "\n",
    "# Create the main window\n",
    "root = tk.Tk()\n",
    "root.title(\"Tkinter Image Example\")\n",
    "root.geometry(\"400x400\")\n",
    "\n",
    "# Create a canvas widget\n",
    "canvas = tk.Canvas(root, width=400, height=400)\n",
    "canvas.pack()\n",
    "\n",
    "# Load the image (adjust the path to your image file)\n",
    "# For .jpg, .jpeg, or other formats, use PIL's Image module\n",
    "image = Image.open(\"pexels-eberhard-grossgasteiger-443446.jpg\")  # Replace with the path to your image\n",
    "image = image.resize((200, 200))         # Resize if necessary\n",
    "photo = ImageTk.PhotoImage(image)        # Convert the image for Tkinter\n",
    "\n",
    "# Display the image on the canvas\n",
    "canvas.create_image(200, 200, image=photo)  # Centered at (200, 200)\n",
    "\n",
    "# Keep a reference to the image to prevent garbage collection\n",
    "canvas.image = photo\n",
    "\n",
    "# Run the application\n",
    "root.mainloop()\n",
    "\n"
   ]
  },
  {
   "cell_type": "code",
   "execution_count": 17,
   "id": "03216dbe-c3db-46f2-84ac-fd67ac83a046",
   "metadata": {},
   "outputs": [],
   "source": []
  },
  {
   "cell_type": "code",
   "execution_count": null,
   "id": "906d11de-905e-44e0-b683-39711a4ea478",
   "metadata": {},
   "outputs": [],
   "source": []
  }
 ],
 "metadata": {
  "kernelspec": {
   "display_name": "Python 3 (ipykernel)",
   "language": "python",
   "name": "python3"
  },
  "language_info": {
   "codemirror_mode": {
    "name": "ipython",
    "version": 3
   },
   "file_extension": ".py",
   "mimetype": "text/x-python",
   "name": "python",
   "nbconvert_exporter": "python",
   "pygments_lexer": "ipython3",
   "version": "3.12.3"
  },
  "widgets": {
   "application/vnd.jupyter.widget-state+json": {
    "state": {},
    "version_major": 2,
    "version_minor": 0
   }
  }
 },
 "nbformat": 4,
 "nbformat_minor": 5
}
