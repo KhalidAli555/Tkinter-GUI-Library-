{
 "cells": [
  {
   "cell_type": "code",
   "execution_count": 2,
   "id": "3b94dbb6-b9cf-48d7-9806-df5b46d247b5",
   "metadata": {},
   "outputs": [],
   "source": [
    "from tkinter import *\n",
    "from tkinter.messagebox import askokcancel\n",
    "\n",
    "# Create the main window\n",
    "win = Tk()\n",
    "\n",
    "# Define the function that shows the askokcancel message box\n",
    "def okcancel():\n",
    "    ans = askokcancel(title='Messagebox', message=\"Welcome To WsCube Tech\")\n",
    "\n",
    "# Create a button that triggers the 'okcancel' function when clicked\n",
    "button = Button(win, text=\"Ok\", command=okcancel, font=(\"Ariel\", 20, \"bold\"))\n",
    "button.pack(padx=2, pady=2)\n",
    "\n",
    "# Start the Tkinter event loop\n",
    "win.mainloop()\n"
   ]
  },
  {
   "cell_type": "code",
   "execution_count": 5,
   "id": "5aac76e0-eb29-4bcc-98fd-f34162b9ea5b",
   "metadata": {},
   "outputs": [],
   "source": [
    "from tkinter import *\n",
    "from tkinter.messagebox import askretrycancel\n",
    "\n",
    "# Create the main window\n",
    "win = Tk()\n",
    "\n",
    "# Define the function that shows the askretrycancel message box\n",
    "def retrycancel():\n",
    "    ans = askretrycancel(title='Messagebox', message=\"Welcome To WsCube Tech\")\n",
    "    \n",
    "# Create a button that triggers the 'retrycancel' function when clicked\n",
    "button = Button(win, text=\"Ok\", command=retrycancel, font=(\"Ariel\", 20, \"bold\"))\n",
    "button.pack(padx=2, pady=2)\n",
    "\n",
    "# St\n"
   ]
  },
  {
   "cell_type": "code",
   "execution_count": null,
   "id": "69005f5a-cb43-4949-9edd-f3682b823a86",
   "metadata": {},
   "outputs": [],
   "source": []
  }
 ],
 "metadata": {
  "kernelspec": {
   "display_name": "Python 3 (ipykernel)",
   "language": "python",
   "name": "python3"
  },
  "language_info": {
   "codemirror_mode": {
    "name": "ipython",
    "version": 3
   },
   "file_extension": ".py",
   "mimetype": "text/x-python",
   "name": "python",
   "nbconvert_exporter": "python",
   "pygments_lexer": "ipython3",
   "version": "3.12.3"
  },
  "widgets": {
   "application/vnd.jupyter.widget-state+json": {
    "state": {},
    "version_major": 2,
    "version_minor": 0
   }
  }
 },
 "nbformat": 4,
 "nbformat_minor": 5
}
