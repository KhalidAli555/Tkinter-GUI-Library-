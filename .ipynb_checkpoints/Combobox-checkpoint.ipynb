{
 "cells": [
  {
   "cell_type": "code",
   "execution_count": 10,
   "id": "ce746eae-724d-4a54-8e7b-c7cbed157546",
   "metadata": {},
   "outputs": [],
   "source": [
    "from tkinter import *\n",
    "from tkinter import ttk   # Import Combobox from ttk\n",
    "\n",
    "# Create the main window\n",
    "win = Tk()\n",
    "win.title('Combobox')\n",
    "\n",
    "# Create a list of programming languages\n",
    "list = ['Python', 'C#', 'Java', 'C++']\n",
    "\n",
    "# Create a Combobox widget\n",
    "combobox = ttk.Combobox(win, values=list)\n",
    "combobox.place(x=10, y=10)\n",
    "\n",
    "# Set the default placeholder in the combobox\n",
    "combobox.set(\"Select Values\")\n",
    "\n",
    "# Run the window's main loop\n",
    "win.mainloop()\n"
   ]
  },
  {
   "cell_type": "code",
   "execution_count": 18,
   "id": "a07ba122-e27a-4a96-bd0e-6784bdb8ba7b",
   "metadata": {},
   "outputs": [],
   "source": [
    "from tkinter import *\n",
    "from tkinter import ttk   # Import Combobox from ttk\n",
    "\n",
    "# Create the main window\n",
    "win = Tk()\n",
    "\n",
    "def test():\n",
    "   p=var.get()\n",
    "   lb.config(text=p)\n",
    "win.title('Combobox')\n",
    "\n",
    "# Create a list of programming languages\n",
    "list = ['Python', 'C#', 'Java', 'C++']\n",
    "\n",
    "var=StringVar()\n",
    "# Create a Combobox widget\n",
    "combobox = ttk.Combobox(win, values=list,textvariable=var)\n",
    "combobox.place(x=100, y=10)\n",
    "\n",
    "# Set the default placeholder in the combobox\n",
    "combobox.set(\"Select Values\")\n",
    "lb=Label(win,text=\"\",font=(30))\n",
    "lb.place(x=10,y=30)\n",
    "button=Button(win,text='Ok',command=test)\n",
    "button.place(x=10,y=90)\n",
    "\n",
    "# Run the window's main loop\n",
    "win.mainloop()\n"
   ]
  },
  {
   "cell_type": "code",
   "execution_count": null,
   "id": "4d60d3bd-ebda-45f8-8726-850d547c6a23",
   "metadata": {},
   "outputs": [],
   "source": []
  }
 ],
 "metadata": {
  "kernelspec": {
   "display_name": "Python 3 (ipykernel)",
   "language": "python",
   "name": "python3"
  },
  "language_info": {
   "codemirror_mode": {
    "name": "ipython",
    "version": 3
   },
   "file_extension": ".py",
   "mimetype": "text/x-python",
   "name": "python",
   "nbconvert_exporter": "python",
   "pygments_lexer": "ipython3",
   "version": "3.12.3"
  },
  "widgets": {
   "application/vnd.jupyter.widget-state+json": {
    "state": {},
    "version_major": 2,
    "version_minor": 0
   }
  }
 },
 "nbformat": 4,
 "nbformat_minor": 5
}
