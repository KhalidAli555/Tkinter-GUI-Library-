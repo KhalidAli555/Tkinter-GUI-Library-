{
 "cells": [
  {
   "cell_type": "code",
   "execution_count": 3,
   "id": "3b373836-a135-4cb4-926e-8e82d4773820",
   "metadata": {},
   "outputs": [],
   "source": [
    "from tkinter import *\n",
    "\n",
    "# Create the main window\n",
    "win = Tk()\n",
    "win.title('Slider')\n",
    "\n",
    "# Create a vertical slider (Scale widget)\n",
    "slider = Scale(win, from_=0, to=10,orient=\"horizontal\")\n",
    "slider.pack()\n",
    "\n",
    "# Run the window's main loop\n",
    "win.mainloop()\n"
   ]
  },
  {
   "cell_type": "code",
   "execution_count": 5,
   "id": "3dfef3c4-1b5c-4035-9b3d-f8b60adba834",
   "metadata": {},
   "outputs": [],
   "source": [
    "# now adds a label that dynamically displays the value of the horizontal slider\n",
    "from tkinter import *\n",
    "\n",
    "# Create the main window\n",
    "win = Tk()\n",
    "\n",
    "# Function to update the label with the slider value\n",
    "def call(p):\n",
    "    p = var.get()\n",
    "    lb.config(text=p)\n",
    "\n",
    "win.title('Slider')\n",
    "\n",
    "# Create an IntVar to store the slider value\n",
    "var = IntVar()\n",
    "\n",
    "# Create a horizontal slider (Scale widget) with a command\n",
    "slider = Scale(win, from_=0, to=10, orient=\"horizontal\", variable=var, command=call)\n",
    "slider.pack()\n",
    "\n",
    "# Create a label to display the value\n",
    "lb = Label(win, text=\"\", font=(20))\n",
    "lb.pack()\n",
    "\n",
    "# Run the window's main loop\n",
    "win.mainloop()\n"
   ]
  },
  {
   "cell_type": "code",
   "execution_count": null,
   "id": "eeee9706-b53b-41fb-a2e7-3446dff0de1d",
   "metadata": {},
   "outputs": [],
   "source": []
  }
 ],
 "metadata": {
  "kernelspec": {
   "display_name": "Python 3 (ipykernel)",
   "language": "python",
   "name": "python3"
  },
  "language_info": {
   "codemirror_mode": {
    "name": "ipython",
    "version": 3
   },
   "file_extension": ".py",
   "mimetype": "text/x-python",
   "name": "python",
   "nbconvert_exporter": "python",
   "pygments_lexer": "ipython3",
   "version": "3.12.3"
  },
  "widgets": {
   "application/vnd.jupyter.widget-state+json": {
    "state": {},
    "version_major": 2,
    "version_minor": 0
   }
  }
 },
 "nbformat": 4,
 "nbformat_minor": 5
}
