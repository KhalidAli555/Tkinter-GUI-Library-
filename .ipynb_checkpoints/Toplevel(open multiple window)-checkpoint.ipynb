{
 "cells": [
  {
   "cell_type": "code",
   "execution_count": 3,
   "id": "03b0366f-c4ae-4366-986a-efc2d8b81e19",
   "metadata": {},
   "outputs": [],
   "source": [
    "from tkinter import *\n",
    "\n",
    "win = Tk()\n",
    "\n",
    "# Function to open a new top-level window\n",
    "def top():\n",
    "    toplevel = Toplevel(win)\n",
    "    toplevel.title(\"New Window\")\n",
    "    toplevel.geometry(\"200x100\")  # Set size for the top-level window\n",
    "    toplevel.config(bg='blue')\n",
    "    \n",
    "    label = Label(toplevel, text=\"Welcome\", bg='blue', fg='white')\n",
    "    label.place(x=70, y=30)  # Centered placement\n",
    "\n",
    "win.title(\"Toplevel\")\n",
    "win.geometry(\"200x200\")  # Set main window size\n",
    "win.config(bg='red')\n",
    "\n",
    "# Button to trigger the top-level window\n",
    "button = Button(win, text=\"Open\", command=top)\n",
    "button.place(x=70, y=80, height=40, width=80)  # Centered button placement\n",
    "\n",
    "win.mainloop()\n"
   ]
  },
  {
   "cell_type": "code",
   "execution_count": null,
   "id": "10649c8b-2af7-4600-ad78-26c1c700897c",
   "metadata": {},
   "outputs": [],
   "source": []
  }
 ],
 "metadata": {
  "kernelspec": {
   "display_name": "Python 3 (ipykernel)",
   "language": "python",
   "name": "python3"
  },
  "language_info": {
   "codemirror_mode": {
    "name": "ipython",
    "version": 3
   },
   "file_extension": ".py",
   "mimetype": "text/x-python",
   "name": "python",
   "nbconvert_exporter": "python",
   "pygments_lexer": "ipython3",
   "version": "3.12.3"
  },
  "widgets": {
   "application/vnd.jupyter.widget-state+json": {
    "state": {},
    "version_major": 2,
    "version_minor": 0
   }
  }
 },
 "nbformat": 4,
 "nbformat_minor": 5
}
