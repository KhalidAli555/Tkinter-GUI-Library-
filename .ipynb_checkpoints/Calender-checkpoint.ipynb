{
 "cells": [
  {
   "cell_type": "code",
   "execution_count": 9,
   "id": "06f0b67b-ff2c-49f2-bdd9-8bc135d7443f",
   "metadata": {},
   "outputs": [],
   "source": [
    "# add calender in screen\n",
    "from tkinter import *\n",
    "from tkcalendar import Calendar\n",
    "\n",
    "win = Tk()\n",
    "win.title(\"Calendar\")\n",
    "win.geometry(\"450x450\")  # Set a window size\n",
    "\n",
    "# Create a Calendar widget\n",
    "calendar = Calendar(win, selectmode='day', year=2024, month=10, day=26)\n",
    "calendar.place(x=20, y=20, height=300, width=300)\n",
    "\n",
    "win.mainloop()\n"
   ]
  },
  {
   "cell_type": "code",
   "execution_count": 12,
   "id": "2dfe1993-4a58-4c52-905d-a9a4450cd213",
   "metadata": {},
   "outputs": [],
   "source": [
    "# click buttion and select data show in screen\n",
    "from tkinter import *\n",
    "from tkcalendar import Calendar\n",
    "\n",
    "win = Tk()\n",
    "\n",
    "# Function to get selected date and display it in the label\n",
    "def test():\n",
    "    var = calendar.get_date()  # Use correct variable name 'calendar'\n",
    "    label.config(text=var)\n",
    "\n",
    "win.title(\"Calendar Example\")\n",
    "win.geometry(\"450x450\")  # Set a window size\n",
    "\n",
    "# Create a Calendar widget\n",
    "calendar = Calendar(win, selectmode='day', year=2024, month=10, day=26)\n",
    "calendar.place(x=20, y=20, height=300, width=300)\n",
    "\n",
    "# Label to display selected date\n",
    "label = Label(win, text=\"\")\n",
    "label.place(x=20, y=400)\n",
    "\n",
    "# Button to trigger date retrieval and display\n",
    "button = Button(win, text=\"Ok\", command=test)\n",
    "button.place(x=20, y=350, height=30, width=50)  # Adjusted button width for visibility\n",
    "\n",
    "win.mainloop()\n"
   ]
  },
  {
   "cell_type": "code",
   "execution_count": 15,
   "id": "29294baf-03a4-453f-b035-97f2f9b522d8",
   "metadata": {},
   "outputs": [],
   "source": [
    "# DataEntry widget\n",
    "from tkinter import *\n",
    "from tkcalendar import DateEntry\n",
    "\n",
    "win = Tk()\n",
    "win.title(\"Calendar Example\")\n",
    "win.geometry(\"450x450\")  # Set a window size\n",
    "\n",
    "# Create a DateEntry widget\n",
    "date_entry = DateEntry(win, selectmode='day', year=2024, month=10, day=26)\n",
    "date_entry.place(x=20, y=20, height=30, width=200)  # Adjust height and width for DateEntry\n",
    "\n",
    "win.mainloop()\n"
   ]
  },
  {
   "cell_type": "code",
   "execution_count": null,
   "id": "2eb51860-6a8b-4a14-af28-a1f1289be984",
   "metadata": {},
   "outputs": [],
   "source": []
  }
 ],
 "metadata": {
  "kernelspec": {
   "display_name": "Python 3 (ipykernel)",
   "language": "python",
   "name": "python3"
  },
  "language_info": {
   "codemirror_mode": {
    "name": "ipython",
    "version": 3
   },
   "file_extension": ".py",
   "mimetype": "text/x-python",
   "name": "python",
   "nbconvert_exporter": "python",
   "pygments_lexer": "ipython3",
   "version": "3.12.3"
  },
  "widgets": {
   "application/vnd.jupyter.widget-state+json": {
    "state": {},
    "version_major": 2,
    "version_minor": 0
   }
  }
 },
 "nbformat": 4,
 "nbformat_minor": 5
}
