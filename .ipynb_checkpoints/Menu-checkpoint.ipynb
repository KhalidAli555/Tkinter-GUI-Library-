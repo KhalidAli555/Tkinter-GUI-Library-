{
 "cells": [
  {
   "cell_type": "code",
   "execution_count": null,
   "id": "ef1985f8-c40b-4277-97f9-0bad4c036ac4",
   "metadata": {},
   "outputs": [],
   "source": [
    "from tkinter import *\n",
    "\n",
    "win= Tk()\n",
    "\n",
    "file_menu= Menu(win)\n",
    "f_menu=Menu(file_menu)\n",
    "f_menu.add_command(label='New File')\n",
    "f_menu.add_command(label='Open File')\n",
    "f_menu.add_command(label='Save File')\n",
    "f_menu.add_command(label='Save As File')\n",
    "win.config(menu=file_menu)\n",
    "file_menu.add_cascade(label='File',menu=f_menu)\n",
    "\n",
    "\n",
    "\n",
    "win.mainloop()\n"
   ]
  },
  {
   "cell_type": "code",
   "execution_count": null,
   "id": "a94f1178-08f3-4de3-9379-e5dd91a2edbd",
   "metadata": {},
   "outputs": [],
   "source": [
    "from tkinter import *\n",
    "\n",
    "win = Tk()\n",
    "\n",
    "# Create a menu object\n",
    "file_menu = Menu(win)\n",
    "\n",
    "# Create a submenu for 'File'\n",
    "f_menu = Menu(file_menu, tearoff=0)\n",
    "f_menu.add_command(label='New File')\n",
    "f_menu.add_command(label='Open File')\n",
    "f_menu.add_command(label='Save File')\n",
    "f_menu.add_command(label='Save As File')\n",
    "\n",
    "# Add the 'File' submenu to the menu bar\n",
    "file_menu.add_cascade(label='File', menu=f_menu)\n",
    "\n",
    "# Configure the window to display the menu\n",
    "win.config(menu=file_menu)\n",
    "\n",
    "win.mainloop()\n"
   ]
  },
  {
   "cell_type": "code",
   "execution_count": null,
   "id": "0906078b-c3c2-4c94-8d74-128bcb548164",
   "metadata": {},
   "outputs": [],
   "source": []
  }
 ],
 "metadata": {
  "kernelspec": {
   "display_name": "Python 3 (ipykernel)",
   "language": "python",
   "name": "python3"
  },
  "language_info": {
   "codemirror_mode": {
    "name": "ipython",
    "version": 3
   },
   "file_extension": ".py",
   "mimetype": "text/x-python",
   "name": "python",
   "nbconvert_exporter": "python",
   "pygments_lexer": "ipython3",
   "version": "3.12.3"
  },
  "widgets": {
   "application/vnd.jupyter.widget-state+json": {
    "state": {},
    "version_major": 2,
    "version_minor": 0
   }
  }
 },
 "nbformat": 4,
 "nbformat_minor": 5
}
