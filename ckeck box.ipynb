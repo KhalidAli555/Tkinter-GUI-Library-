{
 "cells": [
  {
   "cell_type": "code",
   "execution_count": 2,
   "id": "a5a2ba33-3c2d-4824-aa38-6b3051c11797",
   "metadata": {},
   "outputs": [],
   "source": [
    "import tkinter as tk\n",
    "from tkinter import *"
   ]
  },
  {
   "cell_type": "code",
   "execution_count": 12,
   "id": "e49a602f-6c58-4c28-a2f3-79a0ccc205a0",
   "metadata": {},
   "outputs": [
    {
     "name": "stdout",
     "output_type": "stream",
     "text": [
      "\n",
      "\n",
      "\n",
      "\n",
      "\n"
     ]
    }
   ],
   "source": [
    "\n",
    "# radio button\n",
    "def test():\n",
    "    print(var.get())\n",
    "\n",
    "win=Tk()\n",
    "list=((\"python\",\"p\"),('java','j'),(\"javascript\",\"js\"))\n",
    "var=StringVar()\n",
    "# Create multiple radiobuttons\n",
    "radiobutton1 = tk.Radiobutton(win, text=\"Option 1\", variable=var, value=1, command=test)\n",
    "radiobutton2 = tk.Radiobutton(win, text=\"Option 2\", variable=var, value=2, command=test)\n",
    "\n",
    "# Pack the radiobuttons\n",
    "radiobutton1.pack()\n",
    "radiobutton2.pack()\n",
    "\n",
    "\n",
    "\n",
    "win.mainloop()"
   ]
  },
  {
   "cell_type": "code",
   "execution_count": 17,
   "id": "fc688094-9240-4ae4-835d-45c34ccfbf31",
   "metadata": {},
   "outputs": [],
   "source": [
    "\n",
    "# radio buttion using list\n",
    "win=Tk()\n",
    "\n",
    "list=((\"python\",\"p\"),('java','j'),(\"javascript\",\"js\"))\n",
    "\n",
    "var=StringVar()\n",
    "# Create multiple radiobuttons\n",
    "\n",
    "for i in list:\n",
    "    radiobutton1 = tk.Radiobutton(win, text=i[0], variable=var, value=i[1])\n",
    "    radiobutton1.pack()\n",
    "\n",
    "\n",
    "win.mainloop()"
   ]
  },
  {
   "cell_type": "code",
   "execution_count": 14,
   "id": "ae2c5624-e957-44d6-bc50-69f77de9f08d",
   "metadata": {},
   "outputs": [
    {
     "name": "stdout",
     "output_type": "stream",
     "text": [
      "\n",
      "\n",
      "\n"
     ]
    }
   ],
   "source": [
    "# ckeckbox \n",
    "import tkinter as tk\n",
    "\n",
    "def show_checkbutton_state():\n",
    "   print(var.get())\n",
    "\n",
    "# Create the main window\n",
    "root = tk.Tk()\n",
    "\n",
    "# Create a variable to track the checkbutton state\n",
    "var1 = tk.IntVar()\n",
    "\n",
    "# Create the checkbutton\n",
    "checkbutton = tk.Checkbutton(root, text=\"Option 1\", variable=var1, command=show_checkbutton_state)\n",
    "\n",
    "# Pack the checkbutton\n",
    "checkbutton.pack()\n",
    "\n",
    "root.mainloop()\n"
   ]
  },
  {
   "cell_type": "code",
   "execution_count": null,
   "id": "46f45203-5793-45a7-b6f9-49d1962d9b96",
   "metadata": {},
   "outputs": [],
   "source": []
  }
 ],
 "metadata": {
  "kernelspec": {
   "display_name": "Python 3 (ipykernel)",
   "language": "python",
   "name": "python3"
  },
  "language_info": {
   "codemirror_mode": {
    "name": "ipython",
    "version": 3
   },
   "file_extension": ".py",
   "mimetype": "text/x-python",
   "name": "python",
   "nbconvert_exporter": "python",
   "pygments_lexer": "ipython3",
   "version": "3.12.3"
  },
  "widgets": {
   "application/vnd.jupyter.widget-state+json": {
    "state": {},
    "version_major": 2,
    "version_minor": 0
   }
  }
 },
 "nbformat": 4,
 "nbformat_minor": 5
}
