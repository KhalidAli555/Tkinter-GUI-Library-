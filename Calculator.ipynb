{
 "cells": [
  {
   "cell_type": "code",
   "execution_count": 16,
   "id": "9faf4e87-e3b0-442b-b7de-776ce7f65c18",
   "metadata": {},
   "outputs": [],
   "source": [
    "# import necessary libraries\n",
    "import tkinter as tk\n",
    "from PIL import ImageTk,Image\n",
    "from tkinter import messagebox\n",
    "\n",
    "# Create main window\n",
    "root = tk.Tk()\n",
    "root.title(\"Calculator\")  # title of screen\n",
    "root.geometry(\"400x500\")  # size of screen\n",
    "\n",
    "# minimium size of screen\n",
    "root.minsize(300,300)\n",
    "\n",
    "# maximium size of screen\n",
    "root.maxsize(600,600)\n",
    "\n",
    "# change icon \n",
    "root.iconbitmap(\"Calculator_31111.ico\")\n",
    "\n",
    "# change background color of window\n",
    "root.configure(bg='lightblue')\n",
    "\n",
    "# set image in window background\n",
    "image=Image.open(\"calculator image.png\")\n",
    "\n",
    "bg_image=ImageTk.PhotoImage(image)\n",
    "\n",
    "# display background image\n",
    "label=tk.Label(root,image=bg_image).pack(pady=10)\n",
    "\n",
    "# Enter First number Label\n",
    "tk.Label(root, text=\"Enter First Number\", bg=\"lightblue\", fg=\"black\", font=(\"Arial\", 12, \"bold\")).pack()\n",
    "\n",
    "# firstnumber Entry widget (Don't call .pack() here)\n",
    "first_no = tk.Entry(root, width=15, bg='grey', fg='white', font=(\"Arial\", 15, \"bold\"))\n",
    "first_no.pack(pady=3)\n",
    "\n",
    "# Enter second number Label\n",
    "tk.Label(root, text=\"Enter Second Number\", bg=\"lightblue\", fg=\"black\", font=(\"Arial\", 12, \"bold\")).pack()\n",
    "\n",
    "# second number Entry widget (Don't call .pack() here)\n",
    "second_no = tk.Entry(root, width=15, bg='grey', fg='white', font=(\"Arial\", 15, \"bold\"))\n",
    "second_no.pack(pady=3)\n",
    "\n",
    "#  Result Label\n",
    "result_label=tk.Label(root, text=\"Result\", bg=\"lightblue\", fg=\"black\", font=(\"Arial\", 12, \"bold\"))\n",
    "result_label.pack()\n",
    "\n",
    "# Create function for Addition details\n",
    "def addition():\n",
    "    no1 = int(first_no.get())  # get first no \n",
    "    no2= int(second_no.get() ) #   get second no\n",
    "    result=no1+no2\n",
    "    result_label.config(text=\"Answer:\" + str(result))\n",
    "\n",
    "# Create Submit Button\n",
    "submit_button = tk.Button(root, text=\"Login\",bg=\"lightgreen\", command=addition)\n",
    "submit_button.pack(pady=10)\n",
    "\n",
    "\n",
    "root.mainloop()"
   ]
  },
  {
   "cell_type": "code",
   "execution_count": null,
   "id": "761aa709-fc8e-4b25-94fb-2d1ab909aee0",
   "metadata": {},
   "outputs": [],
   "source": []
  }
 ],
 "metadata": {
  "kernelspec": {
   "display_name": "Python 3 (ipykernel)",
   "language": "python",
   "name": "python3"
  },
  "language_info": {
   "codemirror_mode": {
    "name": "ipython",
    "version": 3
   },
   "file_extension": ".py",
   "mimetype": "text/x-python",
   "name": "python",
   "nbconvert_exporter": "python",
   "pygments_lexer": "ipython3",
   "version": "3.12.3"
  },
  "widgets": {
   "application/vnd.jupyter.widget-state+json": {
    "state": {},
    "version_major": 2,
    "version_minor": 0
   }
  }
 },
 "nbformat": 4,
 "nbformat_minor": 5
}
