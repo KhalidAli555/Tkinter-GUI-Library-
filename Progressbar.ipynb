{
 "cells": [
  {
   "cell_type": "code",
   "execution_count": 7,
   "id": "54d6bce6-ee12-49bc-ab5e-5c92dde16d26",
   "metadata": {},
   "outputs": [],
   "source": [
    "import tkinter as tk\n",
    "from tkinter import ttk\n",
    "\n",
    "# Create the main window\n",
    "root = tk.Tk()\n",
    "\n",
    "\n",
    "\n",
    "root.title(\"Progress Bar\")\n",
    "# Create a progress bar\n",
    "progress_bar = ttk.Progressbar(root, orient=\"horizontal\", length=100, mode=\"determinate\")\n",
    "progress_bar.place(x=10,y=10,height=20,width=300)\n",
    "\n",
    "# Button to start the progress\n",
    "start_button = tk.Button(root, text=\"Start Progress\", command=progress_bar.start)\n",
    "start_button.pack(padx=10,pady=10)\n",
    "# Button to start the progress\n",
    "start_button = tk.Button(root, text=\"Stop Progress\", command=progress_bar.stop)\n",
    "start_button.pack(padx=15,pady=10)\n",
    "\n",
    "# Run the Tkinter main loop\n",
    "root.mainloop()"
   ]
  },
  {
   "cell_type": "code",
   "execution_count": null,
   "id": "dae6a235-8609-49e0-9158-73ccc7e5cd23",
   "metadata": {},
   "outputs": [],
   "source": []
  }
 ],
 "metadata": {
  "kernelspec": {
   "display_name": "Python 3 (ipykernel)",
   "language": "python",
   "name": "python3"
  },
  "language_info": {
   "codemirror_mode": {
    "name": "ipython",
    "version": 3
   },
   "file_extension": ".py",
   "mimetype": "text/x-python",
   "name": "python",
   "nbconvert_exporter": "python",
   "pygments_lexer": "ipython3",
   "version": "3.12.3"
  },
  "widgets": {
   "application/vnd.jupyter.widget-state+json": {
    "state": {},
    "version_major": 2,
    "version_minor": 0
   }
  }
 },
 "nbformat": 4,
 "nbformat_minor": 5
}
